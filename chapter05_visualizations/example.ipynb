{
 "cells": [
  {
   "cell_type": "code",
   "execution_count": null,
   "metadata": {},
   "outputs": [],
   "source": [
    "import urllib\n",
    "\n",
    "import statsmodels.api as sm\n",
    "import sklearn.datasets as ds\n",
    "import matplotlib.pyplot as plt\n",
    "import numpy as np\n",
    "import pandas as pd\n",
    "import yfinance as yf\n",
    "\n",
    "from pandas.plotting import scatter_matrix"
   ]
  },
  {
   "cell_type": "code",
   "execution_count": null,
   "metadata": {},
   "outputs": [],
   "source": [
    "# Loading data\n",
    "\n",
    "def get_iris_df():\n",
    "\n",
    "  iris_ds = ds.load_iris()\n",
    "\n",
    "  df = (\n",
    "      pd.DataFrame(\n",
    "        iris_ds['data'],\n",
    "        columns = iris_ds['feature_names']\n",
    "      )\n",
    "    )\n",
    "  \n",
    "  code_species_map = (\n",
    "      dict(\n",
    "        zip(\n",
    "          range(3), \n",
    "          iris_ds['target_names']\n",
    "        )\n",
    "      )\n",
    "    )\n",
    "  \n",
    "  df['species'] = (\n",
    "      [\n",
    "        code_species_map[c]\n",
    "          for c in iris_ds['target']\n",
    "      ]\n",
    "    )\n",
    "  \n",
    "  return df\n",
    "\n",
    "df = get_iris_df()\n",
    "\n",
    "df.info()"
   ]
  },
  {
   "cell_type": "code",
   "execution_count": null,
   "metadata": {},
   "outputs": [],
   "source": [
    "# Pie charts\n",
    "sums_by_species = df.groupby('species').sum()\n",
    "var = 'sepal width (cm)'\n",
    "sums_by_species[var].plot(kind='pie', fontsize=20)\n",
    "plt.title('Breakdown for ' + var, fontdict = {\"fontsize\": 25})\n",
    "plt.show()"
   ]
  },
  {
   "cell_type": "code",
   "execution_count": null,
   "metadata": {},
   "outputs": [],
   "source": [
    "sums_by_species = df.groupby('species').sum()\n",
    "sums_by_species.plot(kind='pie', subplots=True)\n",
    "plt.title('Total Measurements, by Species')\n",
    "plt.show()"
   ]
  },
  {
   "cell_type": "code",
   "execution_count": null,
   "metadata": {},
   "outputs": [],
   "source": [
    "# Bar charts\n",
    "\n",
    "sums_by_species = df.groupby('species').sum()\n",
    "var = 'sepal width (cm)'\n",
    "sums_by_species[var].plot(kind='bar', fontsize=15,\n",
    "rot=30)\n",
    "plt.title('Breakdown for ' + var, fontsize=20)\n",
    "plt.savefig('iris_bar_for_one_variable.jpg')\n",
    "plt.close()\n",
    "sums_by_species = df.groupby('species').sum()\n",
    "sums_by_species.plot(\n",
    "    kind='bar', subplots=True, fontsize=12)\n",
    "plt.suptitle('Total Measurements, by Species')\n",
    "plt.show()"
   ]
  },
  {
   "cell_type": "code",
   "execution_count": null,
   "metadata": {},
   "outputs": [],
   "source": [
    "# Histograms\n",
    "\n",
    "df.plot(kind='hist', subplots=True, layout=(2,2))\n",
    "plt.suptitle('Iris Histograms', fontsize=20)\n",
    "plt.show()\n",
    "for spec in df['species'].unique():\n",
    "  forspec = df[df['species']==spec]\n",
    "  (\n",
    "    forspec['petal length (cm)']\n",
    "    .plot(\n",
    "        kind='hist', \n",
    "        alpha=0.4, \n",
    "        label=spec\n",
    "    )\n",
    "  )\n",
    "plt.legend(loc='upper right')\n",
    "plt.suptitle('Petal Length by Species')\n",
    "plt.show()\n"
   ]
  },
  {
   "cell_type": "code",
   "execution_count": null,
   "metadata": {},
   "outputs": [],
   "source": [
    "# Means, quantiles, etc.\n",
    "\n",
    "col = df['petal length (cm)']\n",
    "Average = col.mean()\n",
    "Std = col.std()\n",
    "Median = col.quantile(0.5)\n",
    "Percentile25 = col.quantile(0.25)\n",
    "Percentile75 = col.quantile(0.75)\n",
    "\n",
    "col = df['petal length (cm)']\n",
    "Perc25 = col.quantile(0.25)\n",
    "Perc75 = col.quantile(0.75)\n",
    "Clean_Avg = col[(col>Perc25)&(col<Perc75)].mean()"
   ]
  },
  {
   "cell_type": "code",
   "execution_count": null,
   "metadata": {},
   "outputs": [],
   "source": [
    "# Boxplots\n",
    "\n",
    "col = 'sepal length (cm)'\n",
    "df['ind'] = pd.Series(df.index).apply(lambda i: i% 50)\n",
    "df.pivot(index='ind', columns='species', values=col).plot(kind='box')\n",
    "plt.show()"
   ]
  },
  {
   "cell_type": "code",
   "execution_count": null,
   "metadata": {},
   "outputs": [],
   "source": [
    "# Scatterplots\n",
    "\n",
    "df.plot(\n",
    "  kind=\"scatter\",\n",
    "  x=\"sepal length (cm)\", \n",
    "  y=\"sepal width (cm)\"\n",
    ")\n",
    "plt.title(\"Length vs Width\")\n",
    "plt.show()\n",
    "\n",
    "plt.close()\n",
    "colors = [\"r\", \"g\", \"b\"]\n",
    "markers= [\".\", \"*\", \"^\"]\n",
    "fig, ax = plt.subplots(1, 1)\n",
    "for i, spec in enumerate(df['species'].unique() ):\n",
    "  ddf = df[df['species']==spec]\n",
    "  ddf.plot(kind=\"scatter\",\n",
    "    x=\"sepal width (cm)\", y=\"sepal length (cm)\",\n",
    "    alpha=0.5, s=10*(i+1), ax=ax,\n",
    "    color=colors[i], marker=markers[i], label=spec)\n",
    "plt.legend()\n",
    "plt.show()"
   ]
  },
  {
   "cell_type": "code",
   "execution_count": null,
   "metadata": {},
   "outputs": [],
   "source": [
    "# Scatterplots with logs\n",
    "\n",
    "# Make Pandas dataframe\n",
    "bs = ds. fetch_california_housing()\n",
    "\n",
    "df = pd.DataFrame(bs.data, columns=bs.feature_names)\n",
    "df[\"Target\"] = bs.target\n",
    "df.info()"
   ]
  },
  {
   "cell_type": "code",
   "execution_count": null,
   "metadata": {},
   "outputs": [],
   "source": [
    "df.plot(x='AveRooms', y='Target', kind='scatter')\n",
    "plt.title('AveRooms on logarithmic axis')\n",
    "plt.show()\n",
    "\n",
    "scatter_matrix(df)\n",
    "plt.show()"
   ]
  },
  {
   "cell_type": "code",
   "execution_count": null,
   "metadata": {},
   "outputs": [],
   "source": [
    "# Heatmaps\n",
    "\n",
    "df = get_iris_df()\n",
    "\n",
    "df.plot(\n",
    "    kind=\"hexbin\",\n",
    "    x=\"sepal width (cm)\", \n",
    "    y=\"sepal length (cm)\"\n",
    ")\n",
    "\n",
    "plt.show()"
   ]
  },
  {
   "cell_type": "code",
   "execution_count": null,
   "metadata": {},
   "outputs": [],
   "source": [
    "# CO2 time series\n",
    "\n",
    "dta = sm.datasets.co2.load_pandas().data\n",
    "dta.plot()\n",
    "plt.title(\"CO2 Levels\")\n",
    "plt.ylabel(\"Parts per million\")\n",
    "plt.show()"
   ]
  },
  {
   "cell_type": "code",
   "execution_count": null,
   "metadata": {},
   "outputs": [],
   "source": [
    "# Stock price\n",
    "\n",
    "yf_ticker = yf.Ticker(\"GOOG\")\n",
    "\n",
    "df = yf_ticker.history(period=\"max\", interval=\"1d\")\n",
    "\n",
    "df['LogClose'] = np.log(df['Close'])\n",
    "df['Close'].plot()\n",
    "plt.title(\"Normal Axis\")\n",
    "plt.show()\n",
    "\n",
    "df['Close'].plot(logy=True)\n",
    "plt.title(\"Logarithmic Axis\")\n",
    "plt.show()"
   ]
  }
 ],
 "metadata": {
  "kernelspec": {
   "display_name": "venv",
   "language": "python",
   "name": "python3"
  },
  "language_info": {
   "codemirror_mode": {
    "name": "ipython",
    "version": 3
   },
   "file_extension": ".py",
   "mimetype": "text/x-python",
   "name": "python",
   "nbconvert_exporter": "python",
   "pygments_lexer": "ipython3",
   "version": "3.10.11"
  }
 },
 "nbformat": 4,
 "nbformat_minor": 2
}
