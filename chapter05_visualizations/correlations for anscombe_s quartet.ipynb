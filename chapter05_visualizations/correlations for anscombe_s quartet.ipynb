{
 "cells": [
  {
   "cell_type": "markdown",
   "metadata": {},
   "source": [
    "# Correlations for Anscombe's Quartet\n",
    "\n",
    "## References\n",
    "\n",
    "* [Anscombe's quartet](https://en.wikipedia.org/wiki/Anscombe%27s_quartet)\n",
    "* [Pearson correlation coefficient](https://en.wikipedia.org/wiki/Pearson_correlation_coefficient)\n",
    "* [Spearman's rank correlation coefficient](https://en.wikipedia.org/wiki/Spearman%27s_rank_correlation_coefficient) "
   ]
  },
  {
   "cell_type": "markdown",
   "metadata": {},
   "source": [
    "## Imports"
   ]
  },
  {
   "cell_type": "code",
   "execution_count": null,
   "metadata": {},
   "outputs": [],
   "source": [
    "import io\n",
    "import numpy as np # type: ignore\n",
    "import pandas as pd # type: ignore\n",
    "import plotly.express as px # type: ignore\n",
    "\n",
    "from IPython.display import display, Markdown # type: ignore"
   ]
  },
  {
   "cell_type": "markdown",
   "metadata": {},
   "source": [
    "## Create DataFrame with Anscombe's Quartet as Data"
   ]
  },
  {
   "cell_type": "code",
   "execution_count": null,
   "metadata": {},
   "outputs": [],
   "source": [
    "anscombes_quartet_str = (\n",
    "        # copied from https://en.wikipedia.org/wiki/Anscombe%27s_quartet\n",
    "        \"\"\"\n",
    "            x_1\ty_1\tx_2\ty_2\tx_3\ty_3\tx_4\ty_4\n",
    "            10.0\t8.04\t10.0\t9.14\t10.0\t7.46\t8.0\t6.58\n",
    "            8.0\t6.95\t8.0\t8.14\t8.0\t6.77\t8.0\t5.76\n",
    "            13.0\t7.58\t13.0\t8.74\t13.0\t12.74\t8.0\t7.71\n",
    "            9.0\t8.81\t9.0\t8.77\t9.0\t7.11\t8.0\t8.84\n",
    "            11.0\t8.33\t11.0\t9.26\t11.0\t7.81\t8.0\t8.47\n",
    "            14.0\t9.96\t14.0\t8.10\t14.0\t8.84\t8.0\t7.04\n",
    "            6.0\t7.24\t6.0\t6.13\t6.0\t6.08\t8.0\t5.25\n",
    "            4.0\t4.26\t4.0\t3.10\t4.0\t5.39\t19.0\t12.50\n",
    "            12.0\t10.84\t12.0\t9.13\t12.0\t8.15\t8.0\t5.56\n",
    "            7.0\t4.82\t7.0\t7.26\t7.0\t6.42\t8.0\t7.91\n",
    "            5.0\t5.68\t5.0\t4.74\t5.0\t5.73\t8.0\t6.89\n",
    "        \"\"\"\n",
    "    )\n",
    "\n",
    "anscombes_quartet_wide = (\n",
    "        pd.read_csv(io.StringIO(anscombes_quartet_str), sep=\"\\\\t\", engine=\"python\")\n",
    "    )\n",
    "\n",
    "all_x_values = np.concat([anscombes_quartet_wide[f\"x_{i}\"].values for i in range(1,5)])\n",
    "all_y_values = np.concat([anscombes_quartet_wide[f\"y_{i}\"].values for i in range(1,5)])\n",
    "rows = [i // 22 + 1 for i in range(len(all_x_values))]\n",
    "columns = [(i // 11) % 2 + 1 for i in range(len(all_x_values))]\n",
    "\n",
    "ANSCOMBES_QUARTET = (\n",
    "        pd.DataFrame(\n",
    "            data = { \n",
    "                \"x\": all_x_values,\n",
    "                \"y\": all_y_values,\n",
    "                \"row\": rows,\n",
    "                \"column\": columns,\n",
    "                \"label\": [f\"{i}-{j}\" for i, j in zip(rows, columns)]\n",
    "            }\n",
    "        )\n",
    "    )\n",
    "\n",
    "del anscombes_quartet_str, anscombes_quartet_wide\n",
    "del all_x_values, all_y_values, rows, columns "
   ]
  },
  {
   "cell_type": "markdown",
   "metadata": {},
   "source": [
    "## Plot Data"
   ]
  },
  {
   "cell_type": "code",
   "execution_count": null,
   "metadata": {},
   "outputs": [],
   "source": [
    "fig = (\n",
    "    px.scatter(\n",
    "        ANSCOMBES_QUARTET, \n",
    "        x=\"x\", \n",
    "        y=\"y\", \n",
    "        facet_row=\"row\", \n",
    "        facet_col=\"column\", \n",
    "        trendline=\"ols\", \n",
    "        trendline_color_override=\"red\", \n",
    "        width=1000, \n",
    "        height=600\n",
    "    )\n",
    ")\n",
    "\n",
    "fig.show()\n",
    "\n",
    "trendline_results = px.get_trendline_results(fig)\n",
    "\n",
    "display(\n",
    "    Markdown(\n",
    "        \"<br>\"\n",
    "        .join(\n",
    "            [\n",
    "                f\"row: {i}, column: {j}, $R^2: {results.rsquared:.2f}$, \"\n",
    "                f\"equation: ${results.params[0]:.2f} + {results.params[1]:.3f} \\\\cdot x$\" \n",
    "                    for _, i, j, results in trendline_results.itertuples()\n",
    "            ]\n",
    "        )\n",
    "    )\n",
    ")\n",
    "\n",
    "del fig, trendline_results"
   ]
  },
  {
   "cell_type": "markdown",
   "metadata": {},
   "source": [
    "## Determine Mean and Standard Deviation of Each Series"
   ]
  },
  {
   "cell_type": "code",
   "execution_count": null,
   "metadata": {},
   "outputs": [],
   "source": [
    "ANSCOMBES_QUARTET[[\"label\", \"x\", \"y\"]].groupby(\"label\").describe()"
   ]
  },
  {
   "cell_type": "markdown",
   "metadata": {},
   "source": [
    "## Determine Pearson Correlation Coefficient and Spearman's Rank Correlation Coefficient"
   ]
  },
  {
   "cell_type": "code",
   "execution_count": null,
   "metadata": {},
   "outputs": [],
   "source": [
    "output = []\n",
    "for label in ANSCOMBES_QUARTET[\"label\"].unique():\n",
    "\n",
    "    x = ANSCOMBES_QUARTET.loc[ANSCOMBES_QUARTET[\"label\"] == label, \"x\"]\n",
    "    y = ANSCOMBES_QUARTET.loc[ANSCOMBES_QUARTET[\"label\"] == label, \"y\"]\n",
    "\n",
    "    output.append(\n",
    "        f\"{label}: Pearson: {x.corr(y, method='pearson'):.3f}, \"\n",
    "        f\"Spearman: {x.corr(y, method='spearman'):.3f}\"\n",
    "    )\n",
    "\n",
    "display(Markdown(\"<br>\".join(output)))\n",
    "\n",
    "del label, x, y, output"
   ]
  }
 ],
 "metadata": {
  "kernelspec": {
   "display_name": "venv",
   "language": "python",
   "name": "python3"
  },
  "language_info": {
   "codemirror_mode": {
    "name": "ipython",
    "version": 3
   },
   "file_extension": ".py",
   "mimetype": "text/x-python",
   "name": "python",
   "nbconvert_exporter": "python",
   "pygments_lexer": "ipython3",
   "version": "3.10.11"
  }
 },
 "nbformat": 4,
 "nbformat_minor": 2
}
